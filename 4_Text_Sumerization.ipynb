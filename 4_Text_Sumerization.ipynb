{
 "cells": [
  {
   "cell_type": "code",
   "execution_count": 1,
   "metadata": {},
   "outputs": [],
   "source": [
    "import re\n",
    "import string\n",
    "\n",
    "import nltk\n",
    "import numpy as np\n",
    "import pandas as pd\n",
    "import networkx as nx\n",
    "\n",
    "from nltk.tokenize import sent_tokenize\n",
    "from nltk.corpus import stopwords\n",
    "from sklearn.metrics.pairwise import cosine_similarity\n",
    "from sklearn.feature_extraction.text import TfidfVectorizer\n",
    "from tqdm import tqdm_notebook as tqdm"
   ]
  },
  {
   "cell_type": "markdown",
   "metadata": {},
   "source": [
    "# Load Text of Book"
   ]
  },
  {
   "cell_type": "code",
   "execution_count": 2,
   "metadata": {},
   "outputs": [],
   "source": [
    "fname=\"/home/ghavimbm/notebook/test/data/book/War_and_Peace_Book_One.txt\"\n",
    "with open(fname) as f:\n",
    "    content = f.readlines()"
   ]
  },
  {
   "cell_type": "markdown",
   "metadata": {},
   "source": [
    "# Data Preprocessing"
   ]
  },
  {
   "cell_type": "code",
   "execution_count": 3,
   "metadata": {},
   "outputs": [],
   "source": [
    "if \"About this digital edition\\n\" in content:\n",
    "    content=content[:content.index(\"About this digital edition\\n\")]\n",
    "if \"CHAPTER I\\n\" in content:\n",
    "    content=content[content.index(\"CHAPTER I\\n\"):]   \n",
    "content=list(filter(lambda a: a != '\\n', content))\n",
    "text = \" \".join(content).lower()\n",
    "text, _ = re.subn('\\s+', ' ', text)\n",
    "text = text.strip()"
   ]
  },
  {
   "cell_type": "code",
   "execution_count": 4,
   "metadata": {},
   "outputs": [],
   "source": [
    "sentences = sent_tokenize(text, language = \"english\")"
   ]
  },
  {
   "cell_type": "code",
   "execution_count": 5,
   "metadata": {},
   "outputs": [],
   "source": [
    "stop_words = set(stopwords.words('english'))\n",
    "stop_words.update(['zero', 'one', 'two', 'three', 'four', 'five', 'six', 'seven', 'eight', 'nine', 'ten', 'may', 'also', 'across','among', 'beside', 'however', 'yet', 'within'])\n",
    "re_stop_words = re.compile(r\"\\b(\" + \"|\".join(stop_words) + \")\\\\W\", re.I)\n",
    "def removeStopWords(sentence):\n",
    "    global re_stop_words\n",
    "    return re_stop_words.sub(\" \", sentence)"
   ]
  },
  {
   "cell_type": "code",
   "execution_count": 6,
   "metadata": {},
   "outputs": [],
   "source": [
    "def preprocess_text(sentences):\n",
    "    ls_items=[]\n",
    "    for item in sentences:\n",
    "        text = removeStopWords(item.translate(str.maketrans('','',string.punctuation)))\n",
    "        text, _ = re.subn('\\s+', ' ', text)\n",
    "        ls_items.append(text)\n",
    "    return ls_items"
   ]
  },
  {
   "cell_type": "code",
   "execution_count": 7,
   "metadata": {},
   "outputs": [],
   "source": [
    "clean_sentences=preprocess_text(sentences)"
   ]
  },
  {
   "cell_type": "markdown",
   "metadata": {},
   "source": [
    "# Load pretrained Glove Wordembeding representation"
   ]
  },
  {
   "cell_type": "code",
   "execution_count": 8,
   "metadata": {},
   "outputs": [],
   "source": [
    "word_embeddings = {}\n",
    "f = open('/home/ghavimbm/notebook/test/glove_we/glove.6B.100d.txt', encoding='utf-8')\n",
    "for line in f:\n",
    "    values = line.split()\n",
    "    word = values[0]\n",
    "    coefs = np.asarray(values[1:], dtype='float32')\n",
    "    word_embeddings[word] = coefs\n",
    "f.close()"
   ]
  },
  {
   "cell_type": "markdown",
   "metadata": {},
   "source": [
    "# Generate Vector of sentences based on wordembeding"
   ]
  },
  {
   "cell_type": "code",
   "execution_count": 9,
   "metadata": {},
   "outputs": [],
   "source": [
    "sentence_vectors = []\n",
    "for i in clean_sentences:\n",
    "    if len(i) != 0:\n",
    "        v = sum([word_embeddings.get(w, np.zeros((100,))) for w in i.split()])/(len(i.split())+0.001)\n",
    "    else:\n",
    "        v = np.zeros((100,))\n",
    "    sentence_vectors.append(v)"
   ]
  },
  {
   "cell_type": "markdown",
   "metadata": {},
   "source": [
    "# Similarity Matrix"
   ]
  },
  {
   "cell_type": "code",
   "execution_count": 10,
   "metadata": {},
   "outputs": [
    {
     "data": {
      "application/vnd.jupyter.widget-view+json": {
       "model_id": "e86c4f821b6d471998352fbc8b0f40d2",
       "version_major": 2,
       "version_minor": 0
      },
      "text/plain": [
       "HBox(children=(IntProgress(value=0, max=3005), HTML(value='')))"
      ]
     },
     "metadata": {},
     "output_type": "display_data"
    },
    {
     "name": "stdout",
     "output_type": "stream",
     "text": [
      "\n"
     ]
    }
   ],
   "source": [
    "sim_mat = np.zeros([len(sentences), len(sentences)])\n",
    "for i in tqdm(range(len(sentences))):\n",
    "    for j in range(len(sentences)):\n",
    "        if i != j:\n",
    "            sim_mat[i][j] = cosine_similarity(sentence_vectors[i].reshape(1,100), sentence_vectors[j].reshape(1,100))[0,0]"
   ]
  },
  {
   "cell_type": "markdown",
   "metadata": {},
   "source": [
    "# PageRank Algorithm"
   ]
  },
  {
   "cell_type": "code",
   "execution_count": 11,
   "metadata": {},
   "outputs": [],
   "source": [
    "nx_graph = nx.from_numpy_array(sim_mat)\n",
    "scores = nx.pagerank(nx_graph)"
   ]
  },
  {
   "cell_type": "code",
   "execution_count": 12,
   "metadata": {},
   "outputs": [],
   "source": [
    "ranked_sentences = sorted(((scores[i],s) for i,s in enumerate(sentences)), reverse=True)"
   ]
  },
  {
   "cell_type": "markdown",
   "metadata": {},
   "source": [
    "# Sumerized Text based on textRank algorithm, Select top 10 sentence"
   ]
  },
  {
   "cell_type": "code",
   "execution_count": 15,
   "metadata": {},
   "outputs": [
    {
     "name": "stdout",
     "output_type": "stream",
     "text": [
      "she evidently considered it proper to show an interest in the general conversation by smiling, but in spite of herself her eyes under their thick long lashes watched her cousin who was going to join the army, with such passionate girlish adoration that her smile could not for a single instant impose upon anyone, and it was clear that the kitten had settled down only to spring up with more energy and again play with her cousin as soon as they too could, like natasha and boris, escape from the drawing room.\n",
      "\n",
      "halfway through supper prince andrew leaned his elbows on the table and, with a look of nervous agitation such as pierre had never before seen on his face, began to talk--as one who has long had something on his mind and suddenly determines to speak out.\n",
      "\n",
      "pierre heard her say: \"certainly he must be moved onto the bed; here it will be impossible...\" the sick man was so surrounded by doctors, princesses, and servants that pierre could no longer see the reddish-yellow face with its gray mane--which, though he saw other faces as well, he had not lost sight of for a single moment during the whole service.\n",
      "\n",
      "as to the last meeting between father and son, it was so touching that she could not think of it without tears, and did not know which had behaved better during those awful moments--the father who so remembered everything and everybody at last and had spoken such pathetic words to the son, or pierre, whom it had been pitiful to see, so stricken was he with grief, though he tried hard to hide it in order not to sadden his dying father.\n",
      "\n",
      "\"yes,\" said the countess when the brightness these young people had brought into the room had vanished; and as if answering a question no one had put but which was always in her mind, \"and how much suffering, how much anxiety one has had to go through that we might rejoice in them now!\n",
      "\n",
      "whether it was the teacher's fault or the pupil's, this same thing happened every day: the princess' eyes grew dim, she could not see and could not hear anything, but was only conscious of her stern father's withered face close to her, of his breath and the smell of him, and could think only of how to get away quickly to her own room to make out the problem in peace.\n",
      "\n",
      "\"yes, father, i have come come to you and brought my wife who is pregnant,\" said prince andrew, following every movement of his father's face with an eager and respectful look.\n",
      "\n",
      "i confess i understand very little about all these matters of wills and inheritance; but i do know that since this young man, whom we all used to know as plain monsieur pierre, has become count bezukhov and the owner of one of the largest fortunes in russia, i am much amused to watch the change in the tone and manners of the mammas burdened by marriageable daughters, and of the young ladies themselves, toward him, though, between you and me, he always seemed to me a poor sort of fellow.\n",
      "\n",
      "\"he always was rather harsh; and now i should think he's getting very trying,\" said prince andrew, apparently speaking lightly of their father in order to puzzle or test his sister.\n",
      "\n",
      "said the countess with a gentle smile, looking at boris' and went on, evidently concerned with a thought that always occupied her: \"now you see if i were to be severe with her and to forbid it... goodness knows what they might be up to on the sly\" (she meant that they would be kissing), \"but as it is, i know every word she utters.\n",
      "\n"
     ]
    }
   ],
   "source": [
    "textRankSumery=[]\n",
    "for i in range(10):\n",
    "    textRankSumery.append(ranked_sentences[i][1])\n",
    "    print(ranked_sentences[i][1]+\"\\n\")"
   ]
  },
  {
   "cell_type": "code",
   "execution_count": 26,
   "metadata": {},
   "outputs": [],
   "source": [
    "with open('./Data/textRankSumery.txt', 'w') as f:\n",
    "    for item in textRankSumery:\n",
    "        f.write(\"%s\\n\" % item)"
   ]
  },
  {
   "cell_type": "markdown",
   "metadata": {},
   "source": [
    "# Sumerization based on TF-IDF"
   ]
  },
  {
   "cell_type": "code",
   "execution_count": 16,
   "metadata": {},
   "outputs": [],
   "source": [
    "ls_senteces=[]\n",
    "for i in range(0,len(sentences)):\n",
    "    ls_senteces.append((sentences[i],clean_sentences[i]))"
   ]
  },
  {
   "cell_type": "code",
   "execution_count": 17,
   "metadata": {},
   "outputs": [],
   "source": [
    "df_sentences=pd.DataFrame(ls_senteces)"
   ]
  },
  {
   "cell_type": "code",
   "execution_count": 18,
   "metadata": {},
   "outputs": [],
   "source": [
    "df_sentences.columns=[\"sentence\",\"clean_sentence\"]"
   ]
  },
  {
   "cell_type": "code",
   "execution_count": 19,
   "metadata": {},
   "outputs": [
    {
     "data": {
      "text/plain": [
       "TfidfVectorizer(analyzer='word', binary=False, decode_error='strict',\n",
       "        dtype=<class 'numpy.int64'>, encoding='utf-8', input='content',\n",
       "        lowercase=True, max_df=0.6, max_features=None, min_df=2,\n",
       "        ngram_range=(1, 1), norm='l2', preprocessor=None, smooth_idf=True,\n",
       "        stop_words=None, strip_accents='unicode', sublinear_tf=False,\n",
       "        token_pattern='(?u)\\\\b\\\\w\\\\w+\\\\b', tokenizer=None, use_idf=True,\n",
       "        vocabulary=None)"
      ]
     },
     "execution_count": 19,
     "metadata": {},
     "output_type": "execute_result"
    }
   ],
   "source": [
    "vectorizer = TfidfVectorizer(strip_accents='unicode', analyzer='word', ngram_range=(1, 1), norm='l2', min_df=2,max_df=0.6)\n",
    "vectorizer.fit(list(df_sentences[\"clean_sentence\"]))"
   ]
  },
  {
   "cell_type": "code",
   "execution_count": 20,
   "metadata": {},
   "outputs": [],
   "source": [
    "df_sentences[\"tf_idf\"]=df_sentences[\"clean_sentence\"].apply(lambda x:vectorizer.transform([x]))"
   ]
  },
  {
   "cell_type": "code",
   "execution_count": 21,
   "metadata": {},
   "outputs": [],
   "source": [
    "df_sentences[\"mean_tf_idf\"]=df_sentences[\"tf_idf\"].apply(np.mean)"
   ]
  },
  {
   "cell_type": "code",
   "execution_count": 22,
   "metadata": {},
   "outputs": [],
   "source": [
    "df_sentences.sort_values(\"mean_tf_idf\",ascending=False,inplace=True)"
   ]
  },
  {
   "cell_type": "code",
   "execution_count": 23,
   "metadata": {},
   "outputs": [],
   "source": [
    "df_sentences.reset_index(drop=True,inplace=True)"
   ]
  },
  {
   "cell_type": "code",
   "execution_count": 27,
   "metadata": {},
   "outputs": [],
   "source": [
    "with open('./Data/tf_idf_summery.txt', 'w') as f:\n",
    "    for item in list(df_sentences[:10][\"sentence\"]):\n",
    "        f.write(\"%s\\n\" % item)"
   ]
  },
  {
   "cell_type": "code",
   "execution_count": 28,
   "metadata": {},
   "outputs": [
    {
     "data": {
      "text/plain": [
       "['as soon as he had seen a visitor off he returned to one of those who were still in the drawing room, drew a chair toward him or her, and jauntily spreading out his legs and putting his hands on his knees with the air of a man who enjoys life and knows how to live, he swayed to and fro with dignity, offered surmises about the weather, or touched on questions of health, sometimes in russian and sometimes in very bad but self-confident french; then again, like a man weary but unflinching in the fulfillment of duty, he rose to see some visitors off and, stroking his scanty gray hairs over his bald patch, also asked them to dinner.',\n",
       " 'pierre wished to make a remark, for the conversation interested him, but anna pavlovna, who had him under observation, interrupted: \"the emperor alexander,\" said she, with the melancholy which always accompanied any reference of hers to the imperial family, \"has declared that he will leave it to the french people themselves to choose their own form of government; and i believe that once free from the usurper, the whole nation will certainly throw itself into the arms of its rightful king,\" she concluded, trying to be amiable to the royalist emigrant.',\n",
       " 'i confess i understand very little about all these matters of wills and inheritance; but i do know that since this young man, whom we all used to know as plain monsieur pierre, has become count bezukhov and the owner of one of the largest fortunes in russia, i am much amused to watch the change in the tone and manners of the mammas burdened by marriageable daughters, and of the young ladies themselves, toward him, though, between you and me, he always seemed to me a poor sort of fellow.',\n",
       " \"although the hall porter saw someone's carriage standing at the entrance, after scrutinizing the mother and son (who without asking to be announced had passed straight through the glass porch between the rows of statues in niches) and looking significantly at the lady's old cloak, he asked whether they wanted the count or the princesses, and, hearing that they wished to see the count, said his excellency was worse today, and that his excellency was not receiving anyone.\",\n",
       " 'she evidently considered it proper to show an interest in the general conversation by smiling, but in spite of herself her eyes under their thick long lashes watched her cousin who was going to join the army, with such passionate girlish adoration that her smile could not for a single instant impose upon anyone, and it was clear that the kitten had settled down only to spring up with more energy and again play with her cousin as soon as they too could, like natasha and boris, escape from the drawing room.',\n",
       " \"the old prince always dressed in old-fashioned style, wearing an antique coat and powdered hair; and when prince andrew entered his father's dressing room (not with the contemptuous look and manner he wore in drawing rooms, but with the animated face with which he talked to pierre), the old man was sitting on a large leather-covered chair, wrapped in a powdering mantle, entrusting his head to tikhon.\",\n",
       " 'sometimes on his way back from the anteroom he would pass through the conservatory and pantry into the large marble dining hall, where tables were being set out for eighty people; and looking at the footmen, who were bringing in silver and china, moving tables, and unfolding damask table linen, he would call dmitri vasilevich, a man of good family and the manager of all his affairs, and while looking with pleasure at the enormous table would say: \"well, dmitri, you\\'ll see that things are all as they should be?',\n",
       " 'everyone sitting in this antechamber experienced the same feeling of respect and even fear when the enormously high study door opened and showed the figure of a rather small old man, with powdered wig, small withered hands, and bushy gray eyebrows which, when he frowned, sometimes hid the gleam of his shrewd, youthfully glittering eyes.',\n",
       " 'pierre heard her say: \"certainly he must be moved onto the bed; here it will be impossible...\" the sick man was so surrounded by doctors, princesses, and servants that pierre could no longer see the reddish-yellow face with its gray mane--which, though he saw other faces as well, he had not lost sight of for a single moment during the whole service.',\n",
       " '\"there is one thing i constantly pray god to grant, mon cousin,\" she replied, \"and it is that he would be merciful to him and would allow his noble soul peacefully to leave this...\" \"yes, yes, of course,\" interrupted prince vasili impatiently, rubbing his bald head and angrily pulling back toward him the little table that he had pushed away.']"
      ]
     },
     "execution_count": 28,
     "metadata": {},
     "output_type": "execute_result"
    }
   ],
   "source": [
    "list(df_sentences[:10][\"sentence\"])"
   ]
  },
  {
   "cell_type": "code",
   "execution_count": null,
   "metadata": {},
   "outputs": [],
   "source": []
  }
 ],
 "metadata": {
  "kernelspec": {
   "display_name": "Python 3",
   "language": "python",
   "name": "python3"
  },
  "language_info": {
   "codemirror_mode": {
    "name": "ipython",
    "version": 3
   },
   "file_extension": ".py",
   "mimetype": "text/x-python",
   "name": "python",
   "nbconvert_exporter": "python",
   "pygments_lexer": "ipython3",
   "version": "3.7.0"
  }
 },
 "nbformat": 4,
 "nbformat_minor": 2
}
