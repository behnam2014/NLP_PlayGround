{
 "cells": [
  {
   "cell_type": "markdown",
   "metadata": {},
   "source": [
    "# load Files"
   ]
  },
  {
   "cell_type": "code",
   "execution_count": 1,
   "metadata": {},
   "outputs": [],
   "source": [
    "fname=\"./Data/War_and_Peace_Book_One.txt\"\n",
    "with open(fname) as f:\n",
    "    content = f.readlines()"
   ]
  },
  {
   "cell_type": "markdown",
   "metadata": {},
   "source": [
    "# Write Function"
   ]
  },
  {
   "cell_type": "code",
   "execution_count": 3,
   "metadata": {},
   "outputs": [],
   "source": [
    "def write_list_to_file(listlines,filename):\n",
    "    with open(filename, 'w') as f:\n",
    "        for item in listlines:\n",
    "            f.write(\"%s\" % item)"
   ]
  },
  {
   "cell_type": "markdown",
   "metadata": {
    "collapsed": true
   },
   "source": [
    "# Preprocess Data"
   ]
  },
  {
   "cell_type": "code",
   "execution_count": 2,
   "metadata": {},
   "outputs": [],
   "source": [
    "#remove tail\n",
    "content=list(filter(lambda a: a != '\\n', content))\n",
    "if \"About this digital edition\\n\" in content:\n",
    "    content=content[:content.index(\"About this digital edition\\n\")]\n",
    "\n",
    "#find index of line start with CHAPTER\n",
    "startindex_chapter=[]\n",
    "for index,line in enumerate(content):\n",
    "    if len(line)<20 and line.startswith(\"CHAPTER\"):\n",
    "        startindex_chapter.append(index)"
   ]
  },
  {
   "cell_type": "markdown",
   "metadata": {},
   "source": [
    "# Write different Chapter into Files"
   ]
  },
  {
   "cell_type": "code",
   "execution_count": 4,
   "metadata": {},
   "outputs": [],
   "source": [
    "directorytosave=\"./Data/Chapters/\"\n",
    "for ix in range(0,len(startindex_chapter)):\n",
    "    if ix!=len(startindex_chapter)-1:\n",
    "        write_list_to_file(content[startindex_chapter[ix]:startindex_chapter[ix+1]],directorytosave+\"chapter_\"+str(ix)+\".txt\")\n",
    "    else:\n",
    "        write_list_to_file(content[startindex_chapter[ix]:],directorytosave+\"chapter_\"+str(ix)+\".txt\")"
   ]
  }
 ],
 "metadata": {
  "kernelspec": {
   "display_name": "Python 3",
   "language": "python",
   "name": "python3"
  },
  "language_info": {
   "codemirror_mode": {
    "name": "ipython",
    "version": 3
   },
   "file_extension": ".py",
   "mimetype": "text/x-python",
   "name": "python",
   "nbconvert_exporter": "python",
   "pygments_lexer": "ipython3",
   "version": "3.7.0"
  }
 },
 "nbformat": 4,
 "nbformat_minor": 2
}
